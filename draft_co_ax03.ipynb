{
 "cells": [
  {
   "cell_type": "code",
   "execution_count": 1,
   "metadata": {},
   "outputs": [],
   "source": [
    "import pandas as pd\n",
    "import seaborn as sns"
   ]
  },
  {
   "cell_type": "code",
   "execution_count": 8,
   "metadata": {},
   "outputs": [],
   "source": [
    "sns.set()\n",
    "sns.set_style(\"whitegrid\")"
   ]
  },
  {
   "cell_type": "code",
   "execution_count": 65,
   "metadata": {},
   "outputs": [],
   "source": [
    "class plant():\n",
    "    \"\"\"The plant which produces the good in question.\"\"\" \n",
    "    \n",
    "    \n",
    "    def __init__(self, b=100, c=-10):\n",
    "        \"\"\"The __init__ function takes the stable parameters b and c for later use.\"\"\"\n",
    "        self.b = b\n",
    "        self.c = c\n",
    "    \n",
    "    def set_b(self, b):\n",
    "        \"\"\"Set fixed parameter b\"\"\"\n",
    "        self.b = b\n",
    "    \n",
    "    def set_c(self, c):\n",
    "        \"\"\"Set fixed parameter c\"\"\"\n",
    "        if c > 0:\n",
    "            print(\"Warning: c should be <= 0 for the model to make sense.\")\n",
    "            \n",
    "        self.c = c\n",
    "    \n",
    "    def y_return(self, x):\n",
    "        \"\"\"The y_return function returns the y value, that is\n",
    "        the amount of produced goods.\"\"\"\n",
    "        return -(x**2) + self.b*x + self.c\n",
    "    \n",
    "    def y_exp_return(self, x, b_exp):\n",
    "        \"\"\"The y_exp_return fuction returns the y_exp value, that is\n",
    "        the *expected* amount ofproduced goods.\"\"\"\n",
    "        return -(x**2) + b_exp*x\n",
    "    \n",
    "    def U_return(self, y, w, x):\n",
    "        \"\"\"The U_return function calculates the utility and the expected utility.\"\"\"\n",
    "        return y + w*x\n",
    "    \n",
    "    def update_b_exp(self, y, x):\n",
    "        \"\"\"The update_b_exp function returns the updated estimation \n",
    "        of parameter b i.e. b_exp\"\"\"        \n",
    "        if x != 0: #avoid division by zero\n",
    "            return y/x + x\n",
    "        else:\n",
    "            print(\"Warning: Division by zero avoided in updating b\")\n",
    "            return y + x # Why this return value?\n",
    "    \n",
    "    def update_w(self, x, x_prev, surprise, w):\n",
    "        \"\"\"The update_w function returns the updated intrinsic utility\n",
    "        for using labour for production\"\"\"    \n",
    "        if x != 0: #avoid division by zero\n",
    "            return (x-x_prev)/abs(x) * surprise / x + w\n",
    "        else:\n",
    "            print(\"Warning: Division by zero avoided in updating w\")\n",
    "            return w # return old value.\n",
    "    \n",
    "    def update_x(self, b_exp, w):\n",
    "        \"\"\"The update_x function return the amount of labour for production\"\"\"\n",
    "        return (b_exp+w)/2\n",
    "    \n",
    "    \n",
    "    def produce(self, w=0, x=20, b_exp=50, n=10, adapt=False):\n",
    "        \"\"\"produce returns a Pandas DataFrame documenting \n",
    "        the results of running the plant for n rounds.\"\"\"\n",
    "        \n",
    "       # creating the pandas DataFrame, which will be returned\n",
    "        index = pd.Index(range(n))\n",
    "        columns = pd.Index(['w', 'x', 'y', 'y_exp', 'b_exp'])\n",
    "        data = pd.DataFrame(index=index, columns=columns)\n",
    "        \n",
    "        for t in range(n):\n",
    "            # saving variables\n",
    "            data['w'][t] = w\n",
    "            data['x'][t] = x\n",
    "            data['b_exp'][t] = b_exp\n",
    "        \n",
    "            # production and expected production\n",
    "            data['y'][t] = self.y_return(x)\n",
    "            data['y_exp'][t] = self.y_exp_return(x, b_exp)\n",
    "        \n",
    "            # Utility and expected utility\n",
    "            U = self.U_return(data['y'][t], w, x)\n",
    "            U_exp = self.U_return(data['y_exp'][t], w, x)\n",
    "        \n",
    "            # updating for next round\n",
    "            b_exp = self.update_b_exp(data['y'][t], x)\n",
    "        \n",
    "            if adapt and t > 0: # w is updated only if adaptive.\n",
    "                w = self.update_w(data['x'][t], data['x'][t-1],\n",
    "                                  (U - U_exp), w)\n",
    "            x = self.update_x(b_exp, w)\n",
    "            \n",
    "        # save data from last cycle\n",
    "        data['w'][-1] = w\n",
    "        data['x'][-1] = x\n",
    "        data['b_exp'][-1] = b_exp\n",
    "    \n",
    "        return data\n",
    "    \n",
    "    def return_y(self, w=0, x=20, b_exp=50, n=50, adapt=False):\n",
    "        data = self.produce(w, x, b_exp, n, adapt)\n",
    "        return data['y'][n-1]"
   ]
  },
  {
   "cell_type": "markdown",
   "metadata": {},
   "source": [
    "For a start, we visualize the difference between the plant without and the plant with adaptive utility using the standard values and varying only parameter c (pilferage)."
   ]
  },
  {
   "cell_type": "code",
   "execution_count": 66,
   "metadata": {},
   "outputs": [
    {
     "data": {
      "text/plain": [
       "<matplotlib.axes._subplots.AxesSubplot at 0x2496aa2a2e8>"
      ]
     },
     "execution_count": 66,
     "metadata": {},
     "output_type": "execute_result"
    },
    {
     "data": {
      "image/png": "[encoded data removed]",
      "text/plain": [
       "<Figure size 432x288 with 1 Axes>"
      ]
     },
     "metadata": {},
     "output_type": "display_data"
    }
   ],
   "source": [
    "# creating the pandas DataFrame, which will be plotted\n",
    "index = pd.Index(range(20))\n",
    "columns = pd.Index(['y', 'c', 'type'])\n",
    "plot_data = pd.DataFrame(index=index, columns=columns)\n",
    "\n",
    "# creating our plant\n",
    "our_plant = plant()\n",
    "\n",
    "i = 0\n",
    "for c in range(0, -1100, -100):\n",
    "    our_plant.set_c(c)\n",
    "        \n",
    "    plot_data['c'][i] = abs(c)\n",
    "    plot_data['y'][i] = our_plant.return_y()\n",
    "    plot_data['type'][i] = \"Static\"    \n",
    "    i += 1\n",
    "    \n",
    "    plot_data['c'][i] = abs(c)\n",
    "    plot_data['y'][i] = our_plant.return_y(adapt=True)\n",
    "    plot_data['type'][i] = \"Adaptive\"\n",
    "    i += 1\n",
    "    \n",
    "sns.barplot(x='c', y='y', hue=\"type\", data=plot_data)"
   ]
  },
  {
   "cell_type": "markdown",
   "metadata": {},
   "source": [
    "As can be seen with the amount of pilferage the plant's output decreases, but the adaptive version does somewhat better."
   ]
  },
  {
   "cell_type": "code",
   "execution_count": 67,
   "metadata": {},
   "outputs": [
    {
     "data": {
      "text/html": [
       "<div>\n",
       "<style scoped>\n",
       "    .dataframe tbody tr th:only-of-type {\n",
       "        vertical-align: middle;\n",
       "    }\n",
       "\n",
       "    .dataframe tbody tr th {\n",
       "        vertical-align: top;\n",
       "    }\n",
       "\n",
       "    .dataframe thead th {\n",
       "        text-align: right;\n",
       "    }\n",
       "</style>\n",
       "<table border=\"1\" class=\"dataframe\">\n",
       "  <thead>\n",
       "    <tr style=\"text-align: right;\">\n",
       "      <th></th>\n",
       "      <th>y</th>\n",
       "      <th>c</th>\n",
       "      <th>type</th>\n",
       "    </tr>\n",
       "  </thead>\n",
       "  <tbody>\n",
       "    <tr>\n",
       "      <th>0</th>\n",
       "      <td>2500</td>\n",
       "      <td>0</td>\n",
       "      <td>Static</td>\n",
       "    </tr>\n",
       "    <tr>\n",
       "      <th>1</th>\n",
       "      <td>2500</td>\n",
       "      <td>0</td>\n",
       "      <td>Adaptive</td>\n",
       "    </tr>\n",
       "    <tr>\n",
       "      <th>2</th>\n",
       "      <td>2398.96</td>\n",
       "      <td>100</td>\n",
       "      <td>Static</td>\n",
       "    </tr>\n",
       "    <tr>\n",
       "      <th>3</th>\n",
       "      <td>2399.97</td>\n",
       "      <td>100</td>\n",
       "      <td>Adaptive</td>\n",
       "    </tr>\n",
       "    <tr>\n",
       "      <th>4</th>\n",
       "      <td>2295.64</td>\n",
       "      <td>200</td>\n",
       "      <td>Static</td>\n",
       "    </tr>\n",
       "    <tr>\n",
       "      <th>5</th>\n",
       "      <td>2299.79</td>\n",
       "      <td>200</td>\n",
       "      <td>Adaptive</td>\n",
       "    </tr>\n",
       "    <tr>\n",
       "      <th>6</th>\n",
       "      <td>2189.72</td>\n",
       "      <td>300</td>\n",
       "      <td>Static</td>\n",
       "    </tr>\n",
       "    <tr>\n",
       "      <th>7</th>\n",
       "      <td>2199.19</td>\n",
       "      <td>300</td>\n",
       "      <td>Adaptive</td>\n",
       "    </tr>\n",
       "    <tr>\n",
       "      <th>8</th>\n",
       "      <td>2080.78</td>\n",
       "      <td>400</td>\n",
       "      <td>Static</td>\n",
       "    </tr>\n",
       "    <tr>\n",
       "      <th>9</th>\n",
       "      <td>2097.76</td>\n",
       "      <td>400</td>\n",
       "      <td>Adaptive</td>\n",
       "    </tr>\n",
       "    <tr>\n",
       "      <th>10</th>\n",
       "      <td>1968.25</td>\n",
       "      <td>500</td>\n",
       "      <td>Static</td>\n",
       "    </tr>\n",
       "    <tr>\n",
       "      <th>11</th>\n",
       "      <td>1994.79</td>\n",
       "      <td>500</td>\n",
       "      <td>Adaptive</td>\n",
       "    </tr>\n",
       "    <tr>\n",
       "      <th>12</th>\n",
       "      <td>1851.39</td>\n",
       "      <td>600</td>\n",
       "      <td>Static</td>\n",
       "    </tr>\n",
       "    <tr>\n",
       "      <th>13</th>\n",
       "      <td>1889.24</td>\n",
       "      <td>600</td>\n",
       "      <td>Adaptive</td>\n",
       "    </tr>\n",
       "    <tr>\n",
       "      <th>14</th>\n",
       "      <td>1729.16</td>\n",
       "      <td>700</td>\n",
       "      <td>Static</td>\n",
       "    </tr>\n",
       "    <tr>\n",
       "      <th>15</th>\n",
       "      <td>1779.41</td>\n",
       "      <td>700</td>\n",
       "      <td>Adaptive</td>\n",
       "    </tr>\n",
       "    <tr>\n",
       "      <th>16</th>\n",
       "      <td>1600</td>\n",
       "      <td>800</td>\n",
       "      <td>Static</td>\n",
       "    </tr>\n",
       "    <tr>\n",
       "      <th>17</th>\n",
       "      <td>1662.66</td>\n",
       "      <td>800</td>\n",
       "      <td>Adaptive</td>\n",
       "    </tr>\n",
       "    <tr>\n",
       "      <th>18</th>\n",
       "      <td>1461.44</td>\n",
       "      <td>900</td>\n",
       "      <td>Static</td>\n",
       "    </tr>\n",
       "    <tr>\n",
       "      <th>19</th>\n",
       "      <td>1534.6</td>\n",
       "      <td>900</td>\n",
       "      <td>Adaptive</td>\n",
       "    </tr>\n",
       "  </tbody>\n",
       "</table>\n",
       "</div>"
      ],
      "text/plain": [
       "          y    c      type\n",
       "0      2500    0    Static\n",
       "1      2500    0  Adaptive\n",
       "2   2398.96  100    Static\n",
       "3   2399.97  100  Adaptive\n",
       "4   2295.64  200    Static\n",
       "5   2299.79  200  Adaptive\n",
       "6   2189.72  300    Static\n",
       "7   2199.19  300  Adaptive\n",
       "8   2080.78  400    Static\n",
       "9   2097.76  400  Adaptive\n",
       "10  1968.25  500    Static\n",
       "11  1994.79  500  Adaptive\n",
       "12  1851.39  600    Static\n",
       "13  1889.24  600  Adaptive\n",
       "14  1729.16  700    Static\n",
       "15  1779.41  700  Adaptive\n",
       "16     1600  800    Static\n",
       "17  1662.66  800  Adaptive\n",
       "18  1461.44  900    Static\n",
       "19   1534.6  900  Adaptive"
      ]
     },
     "execution_count": 67,
     "metadata": {},
     "output_type": "execute_result"
    }
   ],
   "source": []
  },
  {
   "cell_type": "code",
   "execution_count": 41,
   "metadata": {},
   "outputs": [],
   "source": [
    "def show_heatmap(c_values, x_values, b=100):\n",
    "    heat_plant = plant(b=b)\n",
    "    \n",
    "    plot_data = pd.DataFrame(index=x_values,\n",
    "                         columns=c_values,\n",
    "                         dtype=float)\n",
    "    plot_data.index.names = ['x (initial production labour)']\n",
    "    plot_data.columns.names = ['c (pilferage)']\n",
    "    \n",
    "    for c in c_values:\n",
    "        heat_plant.set_c(c)\n",
    "        for x in x_values:\n",
    "            static_y = heat_plant.return_y(x=x, n=5) #took a relatively small n for speed\n",
    "            adapt_y = heat_plant.return_y(x=x, n=5, adapt=True)\n",
    "\n",
    "            plot_data[c][x] = adapt_y / static_y\n",
    "    \n",
    "    sns.heatmap(plot_data)"
   ]
  },
  {
   "cell_type": "code",
   "execution_count": 45,
   "metadata": {},
   "outputs": [],
   "source": [
    "def recreate_graphic():\n",
    "    c_values = [-(b**2)//c_param for c_param in range(15, 65, 5)]\n",
    "    x_values = [int(b*(x_param/5)) for x_param in range(1, 11)]\n",
    "    \n",
    "    show_heatmap(c_values, x_values)"
   ]
  },
  {
   "cell_type": "code",
   "execution_count": 46,
   "metadata": {},
   "outputs": [
    {
     "data": {
      "image/png": "[encoded data removed]",
      "text/plain": [
       "<Figure size 432x288 with 2 Axes>"
      ]
     },
     "metadata": {},
     "output_type": "display_data"
    }
   ],
   "source": [
    "recreate_graphic()"
   ]
  },
  {
   "cell_type": "code",
   "execution_count": 47,
   "metadata": {},
   "outputs": [],
   "source": [
    "from ipywidgets import widgets"
   ]
  },
  {
   "cell_type": "code",
   "execution_count": 63,
   "metadata": {},
   "outputs": [],
   "source": [
    "def interactive_map(start_c=-300):\n",
    "    c_values = [c for c in range(start_c-50*9, start_c+50, 50)]\n",
    "    x_values = [int(b*(x_param/5)) for x_param in range(1, 11)]\n",
    "    show_heatmap(c_values, x_values)"
   ]
  },
  {
   "cell_type": "code",
   "execution_count": 64,
   "metadata": {},
   "outputs": [
    {
     "data": {
      "application/vnd.jupyter.widget-view+json": {
       "model_id": "851e582cc95b4f599415b8f57ca4238b",
       "version_major": 2,
       "version_minor": 0
      },
      "text/plain": [
       "interactive(children=(IntSlider(value=-300, description='start_c', max=0, min=-600, step=100), Output()), _dom…"
      ]
     },
     "metadata": {},
     "output_type": "display_data"
    },
    {
     "data": {
      "text/plain": [
       "<function __main__.interactive_map(start_c=-300)>"
      ]
     },
     "execution_count": 64,
     "metadata": {},
     "output_type": "execute_result"
    }
   ],
   "source": [
    "widgets.interact(interactive_map, start_c=(-600, 0, 100))"
   ]
  },
  {
   "cell_type": "code",
   "execution_count": 61,
   "metadata": {},
   "outputs": [
    {
     "data": {
      "application/vnd.jupyter.widget-view+json": {
       "model_id": "a37b696bfa4b4203b2c9605d9ae36095",
       "version_major": 2,
       "version_minor": 0
      },
      "text/plain": [
       "interactive(children=(IntSlider(value=-300, description='start_c', max=300, min=-900), Output()), _dom_classes…"
      ]
     },
     "metadata": {},
     "output_type": "display_data"
    },
    {
     "data": {
      "text/plain": [
       "<function __main__.interactive_map(start_c=-300)>"
      ]
     },
     "execution_count": 61,
     "metadata": {},
     "output_type": "execute_result"
    }
   ],
   "source": []
  },
  {
   "cell_type": "code",
   "execution_count": null,
   "metadata": {},
   "outputs": [],
   "source": []
  }
 ],
 "metadata": {
  "celltoolbar": "Raw Cell Format",
  "kernelspec": {
   "display_name": "Python 3",
   "language": "python",
   "name": "python3"
  },
  "language_info": {
   "codemirror_mode": {
    "name": "ipython",
    "version": 3
   },
   "file_extension": ".py",
   "mimetype": "text/x-python",
   "name": "python",
   "nbconvert_exporter": "python",
   "pygments_lexer": "ipython3",
   "version": "3.6.5"
  }
 },
 "nbformat": 4,
 "nbformat_minor": 2
}
